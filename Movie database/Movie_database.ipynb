{
 "cells": [
  {
   "cell_type": "markdown",
   "metadata": {},
   "source": [
    "# Importing data and required libraries "
   ]
  },
  {
   "cell_type": "code",
   "execution_count": 1,
   "metadata": {},
   "outputs": [],
   "source": [
    "# Importing required libraries\n",
    "import pandas as pd\n",
    "import numpy as np\n",
    "pd.set_option('display.float_format', lambda x: '%.3f' % x)\n",
    "# from pandas_profiling import ProfileReport\n",
    "# import json # to convert jason data to python objects\n",
    "import ast\n",
    "import warnings\n",
    "warnings.filterwarnings('ignore')"
   ]
  },
  {
   "cell_type": "code",
   "execution_count": 2,
   "metadata": {},
   "outputs": [],
   "source": [
    "# Importing data\n",
    "\n",
    "# Reading directly from the google drive (https://stackoverflow.com/a/62592638)\n",
    "# url = \"https://drive.google.com/file/d/11EWis82Vkogzg97512UO1aWotUEF1Jub/view?usp=sharing\"\n",
    "# path = 'https://drive.google.com/uc?export=download&id='+url.split('/')[-2]\n",
    "# df = pd.read_csv(path)\n",
    "\n",
    "df = pd.read_csv(\"./data/imdb.csv\",parse_dates=['release_date'])"
   ]
  },
  {
   "cell_type": "markdown",
   "metadata": {},
   "source": [
    "# EDA and Data cleaning"
   ]
  },
  {
   "cell_type": "markdown",
   "metadata": {},
   "source": [
    "## A quick review of data"
   ]
  },
  {
   "cell_type": "markdown",
   "metadata": {},
   "source": [
    "1. A quick dive into data"
   ]
  },
  {
   "cell_type": "code",
   "execution_count": 3,
   "metadata": {},
   "outputs": [
    {
     "data": {
      "text/plain": [
       "(3000, 23)"
      ]
     },
     "execution_count": 3,
     "metadata": {},
     "output_type": "execute_result"
    }
   ],
   "source": [
    "df.shape"
   ]
  },
  {
   "cell_type": "markdown",
   "metadata": {},
   "source": [
    "We have 3000 rows and 23 columns"
   ]
  },
  {
   "cell_type": "markdown",
   "metadata": {},
   "source": [
    "2. A quick look at columns"
   ]
  },
  {
   "cell_type": "code",
   "execution_count": 4,
   "metadata": {
    "scrolled": true
   },
   "outputs": [
    {
     "data": {
      "text/html": [
       "<div>\n",
       "<style scoped>\n",
       "    .dataframe tbody tr th:only-of-type {\n",
       "        vertical-align: middle;\n",
       "    }\n",
       "\n",
       "    .dataframe tbody tr th {\n",
       "        vertical-align: top;\n",
       "    }\n",
       "\n",
       "    .dataframe thead th {\n",
       "        text-align: right;\n",
       "    }\n",
       "</style>\n",
       "<table border=\"1\" class=\"dataframe\">\n",
       "  <thead>\n",
       "    <tr style=\"text-align: right;\">\n",
       "      <th></th>\n",
       "      <th>id</th>\n",
       "      <th>belongs_to_collection</th>\n",
       "      <th>budget</th>\n",
       "      <th>genres</th>\n",
       "      <th>homepage</th>\n",
       "      <th>imdb_id</th>\n",
       "      <th>original_language</th>\n",
       "      <th>original_title</th>\n",
       "      <th>overview</th>\n",
       "      <th>popularity</th>\n",
       "      <th>...</th>\n",
       "      <th>release_date</th>\n",
       "      <th>runtime</th>\n",
       "      <th>spoken_languages</th>\n",
       "      <th>status</th>\n",
       "      <th>tagline</th>\n",
       "      <th>title</th>\n",
       "      <th>Keywords</th>\n",
       "      <th>cast</th>\n",
       "      <th>crew</th>\n",
       "      <th>revenue</th>\n",
       "    </tr>\n",
       "  </thead>\n",
       "  <tbody>\n",
       "    <tr>\n",
       "      <th>0</th>\n",
       "      <td>1</td>\n",
       "      <td>[{'id': 313576, 'name': 'Hot Tub Time Machine ...</td>\n",
       "      <td>14000000</td>\n",
       "      <td>[{'id': 35, 'name': 'Comedy'}]</td>\n",
       "      <td>NaN</td>\n",
       "      <td>tt2637294</td>\n",
       "      <td>en</td>\n",
       "      <td>Hot Tub Time Machine 2</td>\n",
       "      <td>When Lou, who has become the \"father of the In...</td>\n",
       "      <td>6.575</td>\n",
       "      <td>...</td>\n",
       "      <td>2015-02-20</td>\n",
       "      <td>93.000</td>\n",
       "      <td>[{'iso_639_1': 'en', 'name': 'English'}]</td>\n",
       "      <td>Released</td>\n",
       "      <td>The Laws of Space and Time are About to be Vio...</td>\n",
       "      <td>Hot Tub Time Machine 2</td>\n",
       "      <td>[{'id': 4379, 'name': 'time travel'}, {'id': 9...</td>\n",
       "      <td>[{'cast_id': 4, 'character': 'Lou', 'credit_id...</td>\n",
       "      <td>[{'credit_id': '59ac067c92514107af02c8c8', 'de...</td>\n",
       "      <td>12314651</td>\n",
       "    </tr>\n",
       "    <tr>\n",
       "      <th>1</th>\n",
       "      <td>2</td>\n",
       "      <td>[{'id': 107674, 'name': 'The Princess Diaries ...</td>\n",
       "      <td>40000000</td>\n",
       "      <td>[{'id': 35, 'name': 'Comedy'}, {'id': 18, 'nam...</td>\n",
       "      <td>NaN</td>\n",
       "      <td>tt0368933</td>\n",
       "      <td>en</td>\n",
       "      <td>The Princess Diaries 2: Royal Engagement</td>\n",
       "      <td>Mia Thermopolis is now a college graduate and ...</td>\n",
       "      <td>8.249</td>\n",
       "      <td>...</td>\n",
       "      <td>2004-08-06</td>\n",
       "      <td>113.000</td>\n",
       "      <td>[{'iso_639_1': 'en', 'name': 'English'}]</td>\n",
       "      <td>Released</td>\n",
       "      <td>It can take a lifetime to find true love; she'...</td>\n",
       "      <td>The Princess Diaries 2: Royal Engagement</td>\n",
       "      <td>[{'id': 2505, 'name': 'coronation'}, {'id': 42...</td>\n",
       "      <td>[{'cast_id': 1, 'character': 'Mia Thermopolis'...</td>\n",
       "      <td>[{'credit_id': '52fe43fe9251416c7502563d', 'de...</td>\n",
       "      <td>95149435</td>\n",
       "    </tr>\n",
       "    <tr>\n",
       "      <th>2</th>\n",
       "      <td>3</td>\n",
       "      <td>NaN</td>\n",
       "      <td>3300000</td>\n",
       "      <td>[{'id': 18, 'name': 'Drama'}]</td>\n",
       "      <td>http://sonyclassics.com/whiplash/</td>\n",
       "      <td>tt2582802</td>\n",
       "      <td>en</td>\n",
       "      <td>Whiplash</td>\n",
       "      <td>Under the direction of a ruthless instructor, ...</td>\n",
       "      <td>64.300</td>\n",
       "      <td>...</td>\n",
       "      <td>2014-10-10</td>\n",
       "      <td>105.000</td>\n",
       "      <td>[{'iso_639_1': 'en', 'name': 'English'}]</td>\n",
       "      <td>Released</td>\n",
       "      <td>The road to greatness can take you to the edge.</td>\n",
       "      <td>Whiplash</td>\n",
       "      <td>[{'id': 1416, 'name': 'jazz'}, {'id': 1523, 'n...</td>\n",
       "      <td>[{'cast_id': 5, 'character': 'Andrew Neimann',...</td>\n",
       "      <td>[{'credit_id': '54d5356ec3a3683ba0000039', 'de...</td>\n",
       "      <td>13092000</td>\n",
       "    </tr>\n",
       "    <tr>\n",
       "      <th>3</th>\n",
       "      <td>4</td>\n",
       "      <td>NaN</td>\n",
       "      <td>1200000</td>\n",
       "      <td>[{'id': 53, 'name': 'Thriller'}, {'id': 18, 'n...</td>\n",
       "      <td>http://kahaanithefilm.com/</td>\n",
       "      <td>tt1821480</td>\n",
       "      <td>hi</td>\n",
       "      <td>Kahaani</td>\n",
       "      <td>Vidya Bagchi (Vidya Balan) arrives in Kolkata ...</td>\n",
       "      <td>3.175</td>\n",
       "      <td>...</td>\n",
       "      <td>2012-03-09</td>\n",
       "      <td>122.000</td>\n",
       "      <td>[{'iso_639_1': 'en', 'name': 'English'}, {'iso...</td>\n",
       "      <td>Released</td>\n",
       "      <td>NaN</td>\n",
       "      <td>Kahaani</td>\n",
       "      <td>[{'id': 10092, 'name': 'mystery'}, {'id': 1054...</td>\n",
       "      <td>[{'cast_id': 1, 'character': 'Vidya Bagchi', '...</td>\n",
       "      <td>[{'credit_id': '52fe48779251416c9108d6eb', 'de...</td>\n",
       "      <td>16000000</td>\n",
       "    </tr>\n",
       "    <tr>\n",
       "      <th>4</th>\n",
       "      <td>5</td>\n",
       "      <td>NaN</td>\n",
       "      <td>0</td>\n",
       "      <td>[{'id': 28, 'name': 'Action'}, {'id': 53, 'nam...</td>\n",
       "      <td>NaN</td>\n",
       "      <td>tt1380152</td>\n",
       "      <td>ko</td>\n",
       "      <td>마린보이</td>\n",
       "      <td>Marine Boy is the story of a former national s...</td>\n",
       "      <td>1.148</td>\n",
       "      <td>...</td>\n",
       "      <td>2009-02-05</td>\n",
       "      <td>118.000</td>\n",
       "      <td>[{'iso_639_1': 'ko', 'name': '한국어/조선말'}]</td>\n",
       "      <td>Released</td>\n",
       "      <td>NaN</td>\n",
       "      <td>Marine Boy</td>\n",
       "      <td>NaN</td>\n",
       "      <td>[{'cast_id': 3, 'character': 'Chun-soo', 'cred...</td>\n",
       "      <td>[{'credit_id': '52fe464b9251416c75073b43', 'de...</td>\n",
       "      <td>3923970</td>\n",
       "    </tr>\n",
       "  </tbody>\n",
       "</table>\n",
       "<p>5 rows × 23 columns</p>\n",
       "</div>"
      ],
      "text/plain": [
       "   id                              belongs_to_collection    budget  \\\n",
       "0   1  [{'id': 313576, 'name': 'Hot Tub Time Machine ...  14000000   \n",
       "1   2  [{'id': 107674, 'name': 'The Princess Diaries ...  40000000   \n",
       "2   3                                                NaN   3300000   \n",
       "3   4                                                NaN   1200000   \n",
       "4   5                                                NaN         0   \n",
       "\n",
       "                                              genres  \\\n",
       "0                     [{'id': 35, 'name': 'Comedy'}]   \n",
       "1  [{'id': 35, 'name': 'Comedy'}, {'id': 18, 'nam...   \n",
       "2                      [{'id': 18, 'name': 'Drama'}]   \n",
       "3  [{'id': 53, 'name': 'Thriller'}, {'id': 18, 'n...   \n",
       "4  [{'id': 28, 'name': 'Action'}, {'id': 53, 'nam...   \n",
       "\n",
       "                            homepage    imdb_id original_language  \\\n",
       "0                                NaN  tt2637294                en   \n",
       "1                                NaN  tt0368933                en   \n",
       "2  http://sonyclassics.com/whiplash/  tt2582802                en   \n",
       "3         http://kahaanithefilm.com/  tt1821480                hi   \n",
       "4                                NaN  tt1380152                ko   \n",
       "\n",
       "                             original_title  \\\n",
       "0                    Hot Tub Time Machine 2   \n",
       "1  The Princess Diaries 2: Royal Engagement   \n",
       "2                                  Whiplash   \n",
       "3                                   Kahaani   \n",
       "4                                      마린보이   \n",
       "\n",
       "                                            overview  popularity  ...  \\\n",
       "0  When Lou, who has become the \"father of the In...       6.575  ...   \n",
       "1  Mia Thermopolis is now a college graduate and ...       8.249  ...   \n",
       "2  Under the direction of a ruthless instructor, ...      64.300  ...   \n",
       "3  Vidya Bagchi (Vidya Balan) arrives in Kolkata ...       3.175  ...   \n",
       "4  Marine Boy is the story of a former national s...       1.148  ...   \n",
       "\n",
       "  release_date runtime                                   spoken_languages  \\\n",
       "0   2015-02-20  93.000           [{'iso_639_1': 'en', 'name': 'English'}]   \n",
       "1   2004-08-06 113.000           [{'iso_639_1': 'en', 'name': 'English'}]   \n",
       "2   2014-10-10 105.000           [{'iso_639_1': 'en', 'name': 'English'}]   \n",
       "3   2012-03-09 122.000  [{'iso_639_1': 'en', 'name': 'English'}, {'iso...   \n",
       "4   2009-02-05 118.000           [{'iso_639_1': 'ko', 'name': '한국어/조선말'}]   \n",
       "\n",
       "     status                                            tagline  \\\n",
       "0  Released  The Laws of Space and Time are About to be Vio...   \n",
       "1  Released  It can take a lifetime to find true love; she'...   \n",
       "2  Released    The road to greatness can take you to the edge.   \n",
       "3  Released                                                NaN   \n",
       "4  Released                                                NaN   \n",
       "\n",
       "                                      title  \\\n",
       "0                    Hot Tub Time Machine 2   \n",
       "1  The Princess Diaries 2: Royal Engagement   \n",
       "2                                  Whiplash   \n",
       "3                                   Kahaani   \n",
       "4                                Marine Boy   \n",
       "\n",
       "                                            Keywords  \\\n",
       "0  [{'id': 4379, 'name': 'time travel'}, {'id': 9...   \n",
       "1  [{'id': 2505, 'name': 'coronation'}, {'id': 42...   \n",
       "2  [{'id': 1416, 'name': 'jazz'}, {'id': 1523, 'n...   \n",
       "3  [{'id': 10092, 'name': 'mystery'}, {'id': 1054...   \n",
       "4                                                NaN   \n",
       "\n",
       "                                                cast  \\\n",
       "0  [{'cast_id': 4, 'character': 'Lou', 'credit_id...   \n",
       "1  [{'cast_id': 1, 'character': 'Mia Thermopolis'...   \n",
       "2  [{'cast_id': 5, 'character': 'Andrew Neimann',...   \n",
       "3  [{'cast_id': 1, 'character': 'Vidya Bagchi', '...   \n",
       "4  [{'cast_id': 3, 'character': 'Chun-soo', 'cred...   \n",
       "\n",
       "                                                crew   revenue  \n",
       "0  [{'credit_id': '59ac067c92514107af02c8c8', 'de...  12314651  \n",
       "1  [{'credit_id': '52fe43fe9251416c7502563d', 'de...  95149435  \n",
       "2  [{'credit_id': '54d5356ec3a3683ba0000039', 'de...  13092000  \n",
       "3  [{'credit_id': '52fe48779251416c9108d6eb', 'de...  16000000  \n",
       "4  [{'credit_id': '52fe464b9251416c75073b43', 'de...   3923970  \n",
       "\n",
       "[5 rows x 23 columns]"
      ]
     },
     "execution_count": 4,
     "metadata": {},
     "output_type": "execute_result"
    }
   ],
   "source": [
    "\n",
    "df.head()"
   ]
  },
  {
   "cell_type": "markdown",
   "metadata": {},
   "source": [
    "There are multiple cells that contain data in jason like format: let first convert these cells to python dictionary objects."
   ]
  },
  {
   "cell_type": "code",
   "execution_count": 5,
   "metadata": {
    "scrolled": true
   },
   "outputs": [
    {
     "name": "stdout",
     "output_type": "stream",
     "text": [
      "object_columns: \n",
      "['belongs_to_collection', 'genres', 'homepage', 'imdb_id', 'original_language', 'original_title', 'overview', 'poster_path', 'production_companies', 'production_countries', 'spoken_languages', 'status', 'tagline', 'title', 'Keywords', 'cast', 'crew']\n",
      "\n",
      "acstract_object_columns: \n",
      "['belongs_to_collection', 'genres', 'production_companies', 'production_countries', 'spoken_languages', 'Keywords', 'cast', 'crew']\n",
      "\n"
     ]
    }
   ],
   "source": [
    "# determining object columns\n",
    "object_columns = [ i for i in df.columns if (df[i]).dtypes == object]\n",
    "print(\"object_columns: \")\n",
    "print(object_columns)\n",
    "print()\n",
    "\n",
    "# Converting NaN to ' '\n",
    "df1 = df.replace(np.nan, ' ', regex=True)\n",
    "\n",
    "# determining python abstract syntax columns\n",
    "ast_columns = [ i for i in object_columns if (df1[i][0])[0]=='[' ]\n",
    "print(\"acstract_object_columns: \")\n",
    "print(ast_columns)\n",
    "print()"
   ]
  },
  {
   "cell_type": "markdown",
   "metadata": {},
   "source": [
    "## Parsing python abstract syntax data"
   ]
  },
  {
   "cell_type": "code",
   "execution_count": 6,
   "metadata": {
    "scrolled": true
   },
   "outputs": [
    {
     "name": "stdout",
     "output_type": "stream",
     "text": [
      "parsing belongs_to_collection\n",
      "parsing belongs_to_collection complete!\n",
      "\n",
      "parsing genres\n",
      "parsing genres complete!\n",
      "\n",
      "parsing production_companies\n",
      "parsing production_companies complete!\n",
      "\n",
      "parsing production_countries\n",
      "parsing production_countries complete!\n",
      "\n",
      "parsing spoken_languages\n",
      "parsing spoken_languages complete!\n",
      "\n",
      "parsing Keywords\n",
      "parsing Keywords complete!\n",
      "\n",
      "parsing cast\n",
      "parsing cast complete!\n",
      "\n",
      "parsing crew\n",
      "parsing crew complete!\n",
      "\n"
     ]
    }
   ],
   "source": [
    "# python abstract syntax data to python objects\n",
    "\n",
    "import ast\n",
    "for j in ast_columns:\n",
    "    \n",
    "    print( f\"parsing {j}\" )\n",
    "    for i in range(0, df.shape[0]):\n",
    "        if df1[j][i][0] == \"[\": \n",
    "            df1[j][i] = ast.literal_eval(df[j][i])\n",
    "    print( f\"parsing {j} complete!\" )\n",
    "    print()"
   ]
  },
  {
   "cell_type": "markdown",
   "metadata": {},
   "source": [
    "# Answeing the questions"
   ]
  },
  {
   "cell_type": "markdown",
   "metadata": {},
   "source": [
    "## 1. Which are the genres with the highest number of movies? (Note that a movie may have more than one genre)"
   ]
  },
  {
   "cell_type": "code",
   "execution_count": 7,
   "metadata": {},
   "outputs": [
    {
     "data": {
      "text/plain": [
       "{'Drama': 1531,\n",
       " 'Comedy': 1028,\n",
       " 'Thriller': 789,\n",
       " 'Action': 741,\n",
       " 'Romance': 571,\n",
       " 'Crime': 469,\n",
       " 'Adventure': 439,\n",
       " 'Horror': 301,\n",
       " 'Science Fiction': 290,\n",
       " 'Family': 260,\n",
       " 'Fantasy': 232,\n",
       " 'Mystery': 225,\n",
       " 'Animation': 141,\n",
       " 'History': 132,\n",
       " 'Music': 100,\n",
       " 'War': 100,\n",
       " 'Documentary': 87,\n",
       " 'Western': 43,\n",
       " 'Foreign': 31,\n",
       " 'TV Movie': 1}"
      ]
     },
     "execution_count": 7,
     "metadata": {},
     "output_type": "execute_result"
    }
   ],
   "source": [
    "all_genres = {}\n",
    "\n",
    "for i in range(0, df.shape[0]):\n",
    "    if type(df1['genres'][i])==list: \n",
    "        items = df1['genres'][i]\n",
    "        for item in items:\n",
    "            if not(item['name'] in all_genres):\n",
    "                all_genres[item['name']] = 1\n",
    "            else:\n",
    "                all_genres[item['name']] += 1\n",
    "            \n",
    "dict(sorted(all_genres.items(), key=lambda item: item[1], reverse=True))"
   ]
  },
  {
   "cell_type": "markdown",
   "metadata": {},
   "source": [
    "The highest genere belongs to 'Drama' followe by \"Comedy\". that was expected! \n",
    "\n",
    "a quick search on google for 'Drama':\n",
    "\n",
    "\"Drama is one of the broadest movie genres and includes subgenres such as romantic drama, sports films, period drama, courtroom drama and crime.\"\n",
    "\n",
    "and for 'Comedy'\n",
    "\n",
    "\"Comedy is one of the oldest genres in film—and derived from the classical comedy in theatre—some of the earliest silent films were comedies\""
   ]
  },
  {
   "cell_type": "markdown",
   "metadata": {},
   "source": [
    "## 2.\tWhich are the genres with the highest average revenue/budget ratio for a movie? (i.e. which genres are the most rewarding ones in terms of income for the company?)"
   ]
  },
  {
   "cell_type": "code",
   "execution_count": 8,
   "metadata": {},
   "outputs": [
    {
     "data": {
      "text/plain": [
       "{'War': 41978.2762411079,\n",
       " 'History': 31818.991813568744,\n",
       " 'Comedy': 12381.149931627382,\n",
       " 'Drama': 8979.480492174802,\n",
       " 'Family': 3920.249057286105,\n",
       " 'Horror': 3387.327418343298,\n",
       " 'Adventure': 2328.6313773439874,\n",
       " 'Romance': 1834.1968652737723,\n",
       " 'Action': 1380.2615522621659,\n",
       " 'Thriller': 1273.34123336465,\n",
       " 'Mystery': 79.99931643589194,\n",
       " 'Music': 3.837861102092786,\n",
       " 'Crime': 3.5538872577253255,\n",
       " 'Western': 3.14128902690303,\n",
       " 'Science Fiction': 3.1075776302395335,\n",
       " 'Fantasy': 2.681945646261202,\n",
       " 'Animation': 2.496849071997734,\n",
       " 'Foreign': 1.1024901120731978,\n",
       " 'Documentary': 0.5836019557039163,\n",
       " 'TV Movie': 0.0}"
      ]
     },
     "execution_count": 8,
     "metadata": {},
     "output_type": "execute_result"
    }
   ],
   "source": [
    "genre_rewards = {}\n",
    "\n",
    "for i in range(0, df.shape[0]):\n",
    "    if type(df1['genres'][i])==list: \n",
    "        items = df1['genres'][i]\n",
    "        for item in items:\n",
    "            if not(item['name'] in genre_rewards):\n",
    "                genre_rewards[item['name']] = 0\n",
    "            else:\n",
    "                if df1['budget'][i] != 0:\n",
    "                    genre_rewards[item['name']] += df1['revenue'][i]/df1['budget'][i]\n",
    "\n",
    "\n",
    "for item in genre_rewards:\n",
    "    genre_rewards[item]/=all_genres[item]\n",
    "                \n",
    "dict(sorted(genre_rewards.items(), key=lambda item: item[1], reverse=True))"
   ]
  },
  {
   "cell_type": "markdown",
   "metadata": {},
   "source": [
    "The best genere is 'War', but the 41978 ratio is unexpected!\n",
    "there should be some errors in data! lets investigate:"
   ]
  },
  {
   "cell_type": "code",
   "execution_count": 9,
   "metadata": {
    "scrolled": false
   },
   "outputs": [
    {
     "name": "stdout",
     "output_type": "stream",
     "text": [
      "original_title:  Rocky\n",
      "genres:  {'Drama'}\n",
      "revenue:  117235147\n",
      "budget:  1000000\n",
      "revenue/budget:  117.235147\n",
      "-----------------------------------\n",
      "\n",
      "original_title:  Clerks\n",
      "genres:  {'Comedy'}\n",
      "revenue:  3151130\n",
      "budget:  27000\n",
      "revenue/budget:  116.70851851851852\n",
      "-----------------------------------\n",
      "\n",
      "original_title:  The Karate Kid, Part II\n",
      "genres:  {'Drama', 'Action', 'Family', 'Romance', 'Adventure'}\n",
      "revenue:  115103979\n",
      "budget:  113\n",
      "revenue/budget:  1018619.2831858407\n",
      "-----------------------------------\n",
      "\n",
      "original_title:  From Prada to Nada\n",
      "genres:  {'Romance', 'Drama', 'Comedy'}\n",
      "revenue:  2500000\n",
      "budget:  93\n",
      "revenue/budget:  26881.720430107525\n",
      "-----------------------------------\n",
      "\n",
      "original_title:  The Birth of a Nation\n",
      "genres:  {'Drama', 'History', 'War'}\n",
      "revenue:  11000000\n",
      "budget:  100000\n",
      "revenue/budget:  110.0\n",
      "-----------------------------------\n",
      "\n",
      "original_title:  웰컴 투 동막골\n",
      "genres:  {'History', 'Drama', 'War', 'Comedy'}\n",
      "revenue:  33579813\n",
      "budget:  8\n",
      "revenue/budget:  4197476.625\n",
      "-----------------------------------\n",
      "\n",
      "original_title:  The Legend of Boggy Creek\n",
      "genres:  {'Horror', 'Drama', 'Mystery'}\n",
      "revenue:  22000000\n",
      "budget:  100000\n",
      "revenue/budget:  220.0\n",
      "-----------------------------------\n",
      "\n",
      "original_title:  Modern Times\n",
      "genres:  {'Drama', 'Comedy'}\n",
      "revenue:  8500000\n",
      "budget:  1\n",
      "revenue/budget:  8500000.0\n",
      "-----------------------------------\n",
      "\n",
      "original_title:  Paranormal Activity\n",
      "genres:  {'Horror', 'Mystery'}\n",
      "revenue:  193355800\n",
      "budget:  15000\n",
      "revenue/budget:  12890.386666666667\n",
      "-----------------------------------\n",
      "\n",
      "original_title:  The Hills Have Eyes\n",
      "genres:  {'Horror'}\n",
      "revenue:  25000000\n",
      "budget:  230000\n",
      "revenue/budget:  108.69565217391305\n",
      "-----------------------------------\n",
      "\n",
      "original_title:  The Blair Witch Project\n",
      "genres:  {'Horror', 'Mystery'}\n",
      "revenue:  248000000\n",
      "budget:  60000\n",
      "revenue/budget:  4133.333333333333\n",
      "-----------------------------------\n",
      "\n",
      "original_title:  Pink Flamingos\n",
      "genres:  {'Crime', 'Horror', 'Comedy'}\n",
      "revenue:  6000000\n",
      "budget:  12000\n",
      "revenue/budget:  500.0\n",
      "-----------------------------------\n",
      "\n",
      "original_title:  Friday the 13th\n",
      "genres:  {'Horror'}\n",
      "revenue:  59754601\n",
      "budget:  550000\n",
      "revenue/budget:  108.6447290909091\n",
      "-----------------------------------\n",
      "\n",
      "original_title:  대호\n",
      "genres:  {'Thriller', 'Action', 'History', 'Adventure'}\n",
      "revenue:  11083449\n",
      "budget:  5000\n",
      "revenue/budget:  2216.6898\n",
      "-----------------------------------\n",
      "\n",
      "original_title:  Nurse 3-D\n",
      "genres:  {'Horror', 'Thriller'}\n",
      "revenue:  10000000\n",
      "budget:  10\n",
      "revenue/budget:  1000000.0\n",
      "-----------------------------------\n",
      "\n"
     ]
    }
   ],
   "source": [
    "genres = []\n",
    "\n",
    "for i in range(0, df.shape[0]):\n",
    "    if df1['budget'][i] != 0:\n",
    "        if df1['revenue'][i]/df1['budget'][i] > 100:\n",
    "            if type(df1['genres'][i])==list: \n",
    "                    items = df1['genres'][i]\n",
    "                    for item in items:\n",
    "                        genres += [item[\"name\"]]\n",
    "            \n",
    "            print(\"original_title: \", df1['original_title'][i])\n",
    "            print(\"genres: \", set(genres))\n",
    "            print(\"revenue: \",df1['revenue'][i])\n",
    "            print(\"budget: \",df1['budget'][i])\n",
    "            print(\"revenue/budget: \", df1['revenue'][i]/df1['budget'][i])\n",
    "            print(\"-----------------------------------\")\n",
    "            print()\n",
    "    genres = []"
   ]
  },
  {
   "cell_type": "markdown",
   "metadata": {},
   "source": [
    "A quick search on google for budjets:\n",
    "\n",
    "\"Rocky\": validated\n",
    "\n",
    "\"Clerks\": Production: 27,575\\\\$ Post-production: 230,000\\\\$ from wiki\n",
    "\n",
    "\"The Karate Kid, Part II\": the budjet was 13m\\\\$ not 113$\n",
    "\n",
    "\"From Prada to Nada\": not available, but 93\\\\$ is creazy low.\n",
    "\n",
    "\"The Birth of a Nation\": Validated\n",
    "\n",
    "\"웰컴 투 동막골\": the budjet was 8m\\\\$ not 8\\\\$\n",
    "\n",
    "\"The Legend of Boggy Creek\": Validated\n",
    "\n",
    "\"Modern Times\": the budjet was 1.5m\\\\$ not 1\\\\$\n",
    "\n",
    "\"Paranormal Activity\": Production: 15000\\\\$ Post-production: 215,000\\\\$ from wiki\n",
    "\n",
    "\"The Hills Have Eyes\": Validated \n",
    "\n",
    "\"The Blair Witch Project\" the budjet was 300,000\\\\$ not 60000\\\\$\n",
    "\n",
    "\"Pink Flamingos\": Validated\n",
    "\n",
    "\"Friday the 13th\": Validated\n",
    "\n",
    "\"대호\": not available\n",
    "\n",
    "\"Nurse 3-D\": the budjet was 10m$ not 10\\\\$\n"
   ]
  },
  {
   "cell_type": "code",
   "execution_count": 10,
   "metadata": {},
   "outputs": [],
   "source": [
    "# cleaning budjets\n",
    "\n",
    "df1.loc[df1[\"original_title\"]==\"Clerks\",\"budget\"] = 230000\n",
    "\n",
    "df1.loc[df1[\"original_title\"]==\"The Karate Kid, Part II\",\"budget\"] = 13000000\n",
    "\n",
    "df1.loc[df1[\"original_title\"]==\"From Prada to Nada\",\"budget\"] = 0\n",
    "\n",
    "df1.loc[df1[\"original_title\"]==\"웰컴 투 동막골\",\"budget\"] = 8000000\n",
    "\n",
    "df1.loc[df1[\"original_title\"]==\"Modern Times\",\"budget\"] = 1500000\n",
    "\n",
    "df1.loc[df1[\"original_title\"]==\"Paranormal Activity\",\"budget\"] = 215000\n",
    "\n",
    "df1.loc[df1[\"original_title\"]==\"The Blair Witch Project\",\"budget\"] = 300000\n",
    "\n",
    "df1.loc[df1[\"original_title\"]==\"대호\",\"budget\"] = 0\n",
    "\n",
    "df1.loc[df1[\"original_title\"]==\"Nurse 3-D\",\"budget\"] = 10000000"
   ]
  },
  {
   "cell_type": "code",
   "execution_count": 11,
   "metadata": {},
   "outputs": [
    {
     "data": {
      "text/plain": [
       "{'Horror': 14.248600964535465,\n",
       " 'Mystery': 12.009431853635204,\n",
       " 'Music': 3.837861102092786,\n",
       " 'Crime': 3.5538872577253255,\n",
       " 'War': 3.5519658741321343,\n",
       " 'Adventure': 3.284865194534108,\n",
       " 'Comedy': 3.278833144786042,\n",
       " 'Romance': 3.212365337314194,\n",
       " 'History': 3.165167179524631,\n",
       " 'Western': 3.14128902690303,\n",
       " 'Science Fiction': 3.1075776302395335,\n",
       " 'Thriller': 3.10588507567651,\n",
       " 'Drama': 3.02137374213689,\n",
       " 'Fantasy': 2.681945646261202,\n",
       " 'Action': 2.6271138902223257,\n",
       " 'Family': 2.5166379260647864,\n",
       " 'Animation': 2.496849071997734,\n",
       " 'Foreign': 1.1024901120731978,\n",
       " 'Documentary': 0.5836019557039163,\n",
       " 'TV Movie': 0.0}"
      ]
     },
     "execution_count": 11,
     "metadata": {},
     "output_type": "execute_result"
    }
   ],
   "source": [
    "genre_rewards = {}\n",
    "\n",
    "for i in range(0, df.shape[0]):\n",
    "    if type(df1['genres'][i])==list: \n",
    "        items = df1['genres'][i]\n",
    "        for item in items:\n",
    "            if not(item['name'] in genre_rewards):\n",
    "                genre_rewards[item['name']] = 0\n",
    "            else:\n",
    "                if df1['budget'][i] != 0:\n",
    "                    genre_rewards[item['name']] += df1['revenue'][i]/df1['budget'][i]\n",
    "                        \n",
    "\n",
    "for item in genre_rewards:\n",
    "    genre_rewards[item]/=all_genres[item]\n",
    "                \n",
    "dict(sorted(genre_rewards.items(), key=lambda item: item[1], reverse=True))"
   ]
  },
  {
   "cell_type": "markdown",
   "metadata": {},
   "source": [
    "After cleaning data, The horror and mystry generes where the best genres, that was from \"Paranormal Activity\" and \"The Blair Witch Project\" films; both with Horror and Mystry geners."
   ]
  },
  {
   "cell_type": "markdown",
   "metadata": {},
   "source": [
    "## 3.\tSort the production companies by the number of movies made. (Note that a movie may have more than one production company)"
   ]
  },
  {
   "cell_type": "code",
   "execution_count": 12,
   "metadata": {
    "scrolled": true
   },
   "outputs": [
    {
     "name": "stdout",
     "output_type": "stream",
     "text": [
      "Warner Bros. :  202\n",
      "Universal Pictures :  188\n",
      "Paramount Pictures :  161\n",
      "Twentieth Century Fox Film Corporation :  138\n",
      "Columbia Pictures :  91\n",
      "Metro-Goldwyn-Mayer (MGM) :  84\n",
      "New Line Cinema :  75\n",
      "Touchstone Pictures :  63\n",
      "Walt Disney Pictures :  62\n",
      "Columbia Pictures Corporation :  61\n",
      "TriStar Pictures :  53\n",
      "Relativity Media :  48\n",
      "Canal+ :  46\n",
      "United Artists :  44\n",
      "Miramax Films :  40\n",
      "Village Roadshow Pictures :  36\n",
      "Regency Enterprises :  31\n",
      "BBC Films :  30\n",
      "Dune Entertainment :  30\n",
      "Working Title Films :  30\n"
     ]
    }
   ],
   "source": [
    "import collections\n",
    "\n",
    "all_companies = {}\n",
    "\n",
    "for i in range(0, df.shape[0]):\n",
    "    if type(df1['production_companies'][i])==list: \n",
    "        items = df1['production_companies'][i]\n",
    "        for item in items:\n",
    "            if not(item['name'] in all_companies):\n",
    "                all_companies[item['name']] = 1\n",
    "            else:\n",
    "                all_companies[item['name']] += 1\n",
    "\n",
    "d = collections.Counter(all_companies)                            \n",
    "for k, v in d.most_common(20):\n",
    "    print(k,\": \", v)"
   ]
  },
  {
   "cell_type": "markdown",
   "metadata": {},
   "source": [
    "## 4.\tProvide a plot of average revenue/budget ratio in different years. (X-axis would be years and Y-axis would be the average revenue/budget ratio)"
   ]
  },
  {
   "cell_type": "code",
   "execution_count": 13,
   "metadata": {
    "scrolled": true
   },
   "outputs": [
    {
     "data": {
      "text/plain": [
       "Text(0, 0.5, 'revenue/budget ratio')"
      ]
     },
     "execution_count": 13,
     "metadata": {},
     "output_type": "execute_result"
    },
    {
     "data": {
      "image/png": "[encoded data removed]",
      "text/plain": [
       "<Figure size 432x288 with 1 Axes>"
      ]
     },
     "metadata": {
      "needs_background": "light"
     },
     "output_type": "display_data"
    }
   ],
   "source": [
    "df1['revenue/budget'] = df1['budget']\n",
    "for i in range(0, df.shape[0]):\n",
    "    if df1['budget'][i]:\n",
    "        if df1['budget'][i] != 0:\n",
    "            df1['revenue/budget'][i] =  df1['budget'][i]/df1['budget'][i]\n",
    "        else:\n",
    "            df1['revenue/budget'][i] = 0\n",
    "        \n",
    "\n",
    "ax = df1['revenue/budget'].groupby(df1.release_date.dt.year).apply(np.mean).plot(title='revenue/budget',  marker='.', markersize=10,)\n",
    "ax.set_xlabel(\"year\")\n",
    "ax.set_ylabel(\"revenue/budget ratio\")"
   ]
  },
  {
   "cell_type": "markdown",
   "metadata": {},
   "source": [
    "The range of the years seems strange, we have alot of movies for 2020-2070! according to https://stackoverflow.com/a/37766686 python datetime was not correctly determined, we should fix that! we can clearly see the 100 year shift in the movie count plot:"
   ]
  },
  {
   "cell_type": "code",
   "execution_count": 14,
   "metadata": {},
   "outputs": [
    {
     "data": {
      "text/plain": [
       "Text(0, 0.5, 'count')"
      ]
     },
     "execution_count": 14,
     "metadata": {},
     "output_type": "execute_result"
    },
    {
     "data": {
      "image/png": "[encoded data removed]",
      "text/plain": [
       "<Figure size 432x288 with 1 Axes>"
      ]
     },
     "metadata": {
      "needs_background": "light"
     },
     "output_type": "display_data"
    }
   ],
   "source": [
    "ax = df1['id'].groupby(df1.release_date.dt.year).agg(['count']).plot(title='Movie count',  marker='.', markersize=10,)\n",
    "ax.set_xlabel(\"year\")\n",
    "ax.set_ylabel(\"count\")"
   ]
  },
  {
   "cell_type": "markdown",
   "metadata": {},
   "source": [
    "Using excel, the maximum year in db was 2028, so for years greater than 2028, we subtract 100 years from the parsed dates"
   ]
  },
  {
   "cell_type": "code",
   "execution_count": 15,
   "metadata": {},
   "outputs": [],
   "source": [
    "from dateutil.relativedelta import relativedelta\n",
    "import datetime\n",
    "\n",
    "for i in range(0, df.shape[0]):\n",
    "    if (df1['release_date'][i]).year > 2028:\n",
    "        df1.loc[i,\"release_date\"]= df1.loc[i,\"release_date\"] - relativedelta(years=100)"
   ]
  },
  {
   "cell_type": "code",
   "execution_count": 16,
   "metadata": {},
   "outputs": [
    {
     "data": {
      "text/plain": [
       "Text(0, 0.5, 'revenue/budget ratio')"
      ]
     },
     "execution_count": 16,
     "metadata": {},
     "output_type": "execute_result"
    },
    {
     "data": {
      "image/png": "[encoded data removed]",
      "text/plain": [
       "<Figure size 432x288 with 1 Axes>"
      ]
     },
     "metadata": {
      "needs_background": "light"
     },
     "output_type": "display_data"
    }
   ],
   "source": [
    "df1['revenue/budget'] = df1['budget']\n",
    "for i in range(0, df.shape[0]):\n",
    "    if df1['budget'][i]:\n",
    "        if df1['budget'][i] != 0:\n",
    "            df1['revenue/budget'][i] =  df1['budget'][i]/df1['budget'][i]\n",
    "        else:\n",
    "            df1['revenue/budget'][i] = 0\n",
    "        \n",
    "\n",
    "ax = df1['revenue/budget'].groupby(df1.release_date.dt.year).apply(np.mean).plot(title='revenue/budget',  marker='.', markersize=10,)\n",
    "ax.set_xlabel(\"year\")\n",
    "ax.set_ylabel(\"revenue/budget ratio\")"
   ]
  },
  {
   "cell_type": "markdown",
   "metadata": {},
   "source": [
    "The revenue/budget trend for the years lower than 1980 or higher than 2020 is noisy!\n",
    "we can see if the number of data is sufficient for that period:"
   ]
  },
  {
   "cell_type": "code",
   "execution_count": 17,
   "metadata": {},
   "outputs": [
    {
     "data": {
      "text/plain": [
       "Text(0, 0.5, 'count')"
      ]
     },
     "execution_count": 17,
     "metadata": {},
     "output_type": "execute_result"
    },
    {
     "data": {
      "image/png": "[encoded data removed]",
      "text/plain": [
       "<Figure size 432x288 with 1 Axes>"
      ]
     },
     "metadata": {
      "needs_background": "light"
     },
     "output_type": "display_data"
    }
   ],
   "source": [
    "ax = df1['id'].groupby(df1.release_date.dt.year).agg(['count']).plot(title='Movie count',  marker='.', markersize=10,)\n",
    "ax.set_xlabel(\"year\")\n",
    "ax.set_ylabel(\"count\")"
   ]
  },
  {
   "cell_type": "markdown",
   "metadata": {},
   "source": [
    "Exciting! the wiered count from the last Movie count is now fixed, the plot seems integrated and the number of movies were grown steadilly from 1980 to 2020; somehow expected.\n",
    "\n",
    "As can be seen, we havent enough data for movies in the years lower than 1980 or higher than 2020, so the results for that period is not reliable."
   ]
  },
  {
   "cell_type": "code",
   "execution_count": 18,
   "metadata": {},
   "outputs": [
    {
     "data": {
      "text/plain": [
       "Text(0, 0.5, 'revenue/budget ratio')"
      ]
     },
     "execution_count": 18,
     "metadata": {},
     "output_type": "execute_result"
    },
    {
     "data": {
      "image/png": "[encoded data removed]",
      "text/plain": [
       "<Figure size 432x288 with 1 Axes>"
      ]
     },
     "metadata": {
      "needs_background": "light"
     },
     "output_type": "display_data"
    }
   ],
   "source": [
    "ax = df1['revenue/budget'].groupby(df1.release_date.dt.year).apply(np.mean).plot(title='revenue/budget',  marker='.', markersize=10,)\n",
    "ax.set_xlabel(\"year\")\n",
    "ax.set_xlim(1980,2020)\n",
    "ax.set_ylabel(\"revenue/budget ratio\")"
   ]
  },
  {
   "cell_type": "markdown",
   "metadata": {},
   "source": [
    "from the plot aboe, the Movies revenue/budget increased from 1980 to 2000, but after 2000 it slowly decreased,\n",
    "the results correlate well to number of movie tickets sold in the U.S. and Canada from 1980 to 2019 \n",
    "https://www.statista.com/statistics/187073/tickets-sold-at-the-north-american-box-office-since-1980/"
   ]
  },
  {
   "cell_type": "markdown",
   "metadata": {},
   "source": [
    "## 5.\tGroup all movies into different subgroups based on budget, revenue and popularity. (Drop the movies with budget or revenue lower than 10000, these are unknown values) Explain how you choose the number of these groups. Can you provide an explanation about each group?"
   ]
  },
  {
   "cell_type": "markdown",
   "metadata": {},
   "source": [
    "Without further specifications, the data could be grouped based on max, 95%, 75%, 50%, 25%, 5% and min value as follows:\n",
    "\n",
    "min - 0.05 : very low\n",
    "\n",
    "0.05 - 0.25 : low\n",
    "\n",
    "0.25 - 0.5 : moderatly low\n",
    "\n",
    "0.5 - 0,75 : moderatly high\n",
    "\n",
    "0.75 - 0.95 : high\n",
    "\n",
    "0.95 - max : very high\n",
    "\n",
    "Using the describe method:"
   ]
  },
  {
   "cell_type": "code",
   "execution_count": 19,
   "metadata": {
    "scrolled": true
   },
   "outputs": [
    {
     "data": {
      "text/html": [
       "<div>\n",
       "<style scoped>\n",
       "    .dataframe tbody tr th:only-of-type {\n",
       "        vertical-align: middle;\n",
       "    }\n",
       "\n",
       "    .dataframe tbody tr th {\n",
       "        vertical-align: top;\n",
       "    }\n",
       "\n",
       "    .dataframe thead th {\n",
       "        text-align: right;\n",
       "    }\n",
       "</style>\n",
       "<table border=\"1\" class=\"dataframe\">\n",
       "  <thead>\n",
       "    <tr style=\"text-align: right;\">\n",
       "      <th></th>\n",
       "      <th>budget</th>\n",
       "      <th>popularity</th>\n",
       "      <th>revenue</th>\n",
       "    </tr>\n",
       "  </thead>\n",
       "  <tbody>\n",
       "    <tr>\n",
       "      <th>count</th>\n",
       "      <td>2163.000</td>\n",
       "      <td>2163.000</td>\n",
       "      <td>2163.000</td>\n",
       "    </tr>\n",
       "    <tr>\n",
       "      <th>mean</th>\n",
       "      <td>31228423.024</td>\n",
       "      <td>9.774</td>\n",
       "      <td>87964920.115</td>\n",
       "    </tr>\n",
       "    <tr>\n",
       "      <th>std</th>\n",
       "      <td>40374037.973</td>\n",
       "      <td>13.811</td>\n",
       "      <td>156107900.852</td>\n",
       "    </tr>\n",
       "    <tr>\n",
       "      <th>min</th>\n",
       "      <td>2500.000</td>\n",
       "      <td>0.003</td>\n",
       "      <td>1404.000</td>\n",
       "    </tr>\n",
       "    <tr>\n",
       "      <th>5%</th>\n",
       "      <td>751224.100</td>\n",
       "      <td>0.950</td>\n",
       "      <td>241870.700</td>\n",
       "    </tr>\n",
       "    <tr>\n",
       "      <th>25%</th>\n",
       "      <td>5800000.000</td>\n",
       "      <td>5.474</td>\n",
       "      <td>7209218.500</td>\n",
       "    </tr>\n",
       "    <tr>\n",
       "      <th>50%</th>\n",
       "      <td>16800000.000</td>\n",
       "      <td>8.348</td>\n",
       "      <td>29541790.000</td>\n",
       "    </tr>\n",
       "    <tr>\n",
       "      <th>75%</th>\n",
       "      <td>40000000.000</td>\n",
       "      <td>11.696</td>\n",
       "      <td>100524306.500</td>\n",
       "    </tr>\n",
       "    <tr>\n",
       "      <th>95%</th>\n",
       "      <td>110000000.000</td>\n",
       "      <td>18.441</td>\n",
       "      <td>361983304.800</td>\n",
       "    </tr>\n",
       "    <tr>\n",
       "      <th>max</th>\n",
       "      <td>380000000.000</td>\n",
       "      <td>294.337</td>\n",
       "      <td>1519557910.000</td>\n",
       "    </tr>\n",
       "  </tbody>\n",
       "</table>\n",
       "</div>"
      ],
      "text/plain": [
       "             budget  popularity        revenue\n",
       "count      2163.000    2163.000       2163.000\n",
       "mean   31228423.024       9.774   87964920.115\n",
       "std    40374037.973      13.811  156107900.852\n",
       "min        2500.000       0.003       1404.000\n",
       "5%       751224.100       0.950     241870.700\n",
       "25%     5800000.000       5.474    7209218.500\n",
       "50%    16800000.000       8.348   29541790.000\n",
       "75%    40000000.000      11.696  100524306.500\n",
       "95%   110000000.000      18.441  361983304.800\n",
       "max   380000000.000     294.337 1519557910.000"
      ]
     },
     "execution_count": 19,
     "metadata": {},
     "output_type": "execute_result"
    }
   ],
   "source": [
    "df2 = df1[(df1['revenue']>1000) & (df1['budget']>1000) ]\n",
    "df2 = df2.drop(columns = ['id', 'revenue/budget'])\n",
    "df2.describe(percentiles = [0.05,0.25,0.5,0.75,0.95])"
   ]
  },
  {
   "cell_type": "markdown",
   "metadata": {},
   "source": [
    "## 6.\tWe have some users who like to be different and ‘swim against the current’. Find them the most weird movies in terms of runtime, budget, number of cast, etc. Feel free to improvise and combine the columns! Explain your results."
   ]
  },
  {
   "cell_type": "markdown",
   "metadata": {},
   "source": [
    "1. Runtime:"
   ]
  },
  {
   "cell_type": "code",
   "execution_count": 20,
   "metadata": {},
   "outputs": [
    {
     "data": {
      "text/plain": [
       "count   3000.000\n",
       "mean     107.785\n",
       "std       22.254\n",
       "min        0.000\n",
       "5%        83.000\n",
       "25%       94.000\n",
       "50%      104.000\n",
       "75%      118.000\n",
       "95%      147.000\n",
       "max      338.000\n",
       "Name: runtime, dtype: float64"
      ]
     },
     "execution_count": 20,
     "metadata": {},
     "output_type": "execute_result"
    }
   ],
   "source": [
    "df2 = df1['runtime'].replace(\" \", 0)\n",
    "df2.describe(percentiles = [0.05,0.25,0.5,0.75,0.95])"
   ]
  },
  {
   "cell_type": "markdown",
   "metadata": {},
   "source": [
    "Movies with runtime lower than 83 min or higher than 147 min are considered as the ones who \"swim against the current\""
   ]
  },
  {
   "cell_type": "code",
   "execution_count": 21,
   "metadata": {},
   "outputs": [
    {
     "data": {
      "text/plain": [
       "Text(0, 0.5, 'runtime')"
      ]
     },
     "execution_count": 21,
     "metadata": {},
     "output_type": "execute_result"
    },
    {
     "data": {
      "image/png": "[encoded data removed]",
      "text/plain": [
       "<Figure size 432x288 with 1 Axes>"
      ]
     },
     "metadata": {
      "needs_background": "light"
     },
     "output_type": "display_data"
    }
   ],
   "source": [
    "ax = df2.sort_values().plot(title='Movie runtime',  marker='.', markersize=10,use_index=False)\n",
    "ax.set_xlabel(\"id\")\n",
    "ax.set_ylabel(\"runtime\")"
   ]
  },
  {
   "cell_type": "markdown",
   "metadata": {},
   "source": [
    "there are only 2 movies with runtime of over 4 hrs!"
   ]
  },
  {
   "cell_type": "markdown",
   "metadata": {},
   "source": [
    "2. Budget"
   ]
  },
  {
   "cell_type": "code",
   "execution_count": 22,
   "metadata": {},
   "outputs": [
    {
     "data": {
      "text/plain": [
       "count        2173.000\n",
       "mean     31121554.994\n",
       "std      40314595.361\n",
       "min          2500.000\n",
       "5%         737033.200\n",
       "25%       5700000.000\n",
       "50%      16000000.000\n",
       "75%      40000000.000\n",
       "95%     110000000.000\n",
       "max     380000000.000\n",
       "Name: budget, dtype: float64"
      ]
     },
     "execution_count": 22,
     "metadata": {},
     "output_type": "execute_result"
    }
   ],
   "source": [
    "df2 = df1[df1['budget']>1000]\n",
    "df2['budget'].describe(percentiles = [0.05,0.25,0.5,0.75,0.95])"
   ]
  },
  {
   "cell_type": "markdown",
   "metadata": {},
   "source": [
    "Movies with budget lower than 700000 or higher than 110 million $ are considered as the ones who \"swim against the current\""
   ]
  },
  {
   "cell_type": "code",
   "execution_count": 23,
   "metadata": {},
   "outputs": [
    {
     "data": {
      "text/plain": [
       "Text(0, 0.5, 'budget')"
      ]
     },
     "execution_count": 23,
     "metadata": {},
     "output_type": "execute_result"
    },
    {
     "data": {
      "image/png": "[encoded data removed]",
      "text/plain": [
       "<Figure size 432x288 with 1 Axes>"
      ]
     },
     "metadata": {
      "needs_background": "light"
     },
     "output_type": "display_data"
    }
   ],
   "source": [
    "ax = df2['budget'].sort_values().plot(title='Movie budget',  marker='.', markersize=10,use_index=False)\n",
    "ax.set_xlabel(\"id\")\n",
    "ax.set_ylabel(\"budget\")"
   ]
  },
  {
   "cell_type": "markdown",
   "metadata": {},
   "source": [
    "there are only 2 movies with budget of over 300 million $."
   ]
  },
  {
   "cell_type": "markdown",
   "metadata": {},
   "source": [
    "3. casts"
   ]
  },
  {
   "cell_type": "code",
   "execution_count": 24,
   "metadata": {},
   "outputs": [],
   "source": [
    "df1['cast_num'] = df1['id']\n",
    "for i in range(0, df.shape[0]):\n",
    "    if type(df1['cast'][i])==list:\n",
    "        df1['cast_num'][i] = len(df1['cast'][i])\n",
    "    else:\n",
    "        df1['cast_num'][i] = 0"
   ]
  },
  {
   "cell_type": "code",
   "execution_count": 25,
   "metadata": {},
   "outputs": [
    {
     "data": {
      "text/plain": [
       "count   3000.000\n",
       "mean      20.604\n",
       "std       16.630\n",
       "min        0.000\n",
       "5%         5.000\n",
       "25%       11.000\n",
       "50%       16.000\n",
       "75%       24.000\n",
       "95%       54.000\n",
       "max      156.000\n",
       "Name: cast_num, dtype: float64"
      ]
     },
     "execution_count": 25,
     "metadata": {},
     "output_type": "execute_result"
    }
   ],
   "source": [
    "df1['cast_num'].describe(percentiles = [0.05,0.25,0.5,0.75,0.95])"
   ]
  },
  {
   "cell_type": "markdown",
   "metadata": {},
   "source": [
    "Movies with casts lower than 5 or higher than 54 are considered as the ones who \"swim against the current\"\n"
   ]
  },
  {
   "cell_type": "code",
   "execution_count": null,
   "metadata": {},
   "outputs": [],
   "source": [
    "ax = df1['cast_num'].sort_values().plot(title='Movie cast',  marker='.', markersize=10,use_index=False)\n",
    "ax.set_xlabel(\"id\")\n",
    "ax.set_ylabel(\"cast number\")"
   ]
  },
  {
   "cell_type": "markdown",
   "metadata": {},
   "source": [
    "there are only 2 movies with casts of over 120."
   ]
  },
  {
   "cell_type": "markdown",
   "metadata": {},
   "source": [
    "4. crews"
   ]
  },
  {
   "cell_type": "code",
   "execution_count": null,
   "metadata": {},
   "outputs": [],
   "source": [
    "df1['crew_num'] = df1['id']\n",
    "for i in range(0, df.shape[0]):\n",
    "    if type(df1['crew'][i])==list:\n",
    "        df1['crew_num'][i] = len(df1['crew'][i])\n",
    "    else:\n",
    "        df1['crew_num'][i] = 0"
   ]
  },
  {
   "cell_type": "code",
   "execution_count": null,
   "metadata": {},
   "outputs": [],
   "source": [
    "df1['crew_num'].describe(percentiles = [0.05,0.25,0.5,0.75,0.95])"
   ]
  },
  {
   "cell_type": "markdown",
   "metadata": {},
   "source": [
    "Movies with crews lower than 2 or higher than 88 are considered as the ones who \"swim against the current\""
   ]
  },
  {
   "cell_type": "code",
   "execution_count": null,
   "metadata": {},
   "outputs": [],
   "source": [
    "ax = df1['crew_num'].sort_values().plot(title='Movie crew',  marker='.', markersize=10,use_index=False)\n",
    "ax.set_xlabel(\"id\")\n",
    "ax.set_ylabel(\"crew number\")"
   ]
  },
  {
   "cell_type": "markdown",
   "metadata": {},
   "source": [
    "there are only 4 movies with crew of over 160."
   ]
  },
  {
   "cell_type": "code",
   "execution_count": null,
   "metadata": {},
   "outputs": [],
   "source": []
  }
 ],
 "metadata": {
  "kernelspec": {
   "display_name": "Python 3",
   "language": "python",
   "name": "python3"
  },
  "language_info": {
   "codemirror_mode": {
    "name": "ipython",
    "version": 3
   },
   "file_extension": ".py",
   "mimetype": "text/x-python",
   "name": "python",
   "nbconvert_exporter": "python",
   "pygments_lexer": "ipython3",
   "version": "3.8.5"
  }
 },
 "nbformat": 4,
 "nbformat_minor": 4
}
